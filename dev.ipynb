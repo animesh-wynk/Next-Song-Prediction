{
 "cells": [
  {
   "cell_type": "code",
   "execution_count": 1,
   "id": "a9cc9a7b",
   "metadata": {},
   "outputs": [],
   "source": [
    "# # Del all directories in qualitative results which are empty\n",
    "# import os\n",
    "# directory = \"qualitative_results\"\n",
    "# for d in os.listdir(directory):\n",
    "#     try:\n",
    "#         os.rmdir(os.path.join(directory, d))\n",
    "#     except:\n",
    "#         print('ok')"
   ]
  },
  {
   "cell_type": "code",
   "execution_count": null,
   "id": "3a74dc82",
   "metadata": {},
   "outputs": [],
   "source": [
    "!nvidia-smi"
   ]
  },
  {
   "cell_type": "code",
   "execution_count": 3,
   "id": "8fd74ed4",
   "metadata": {
    "collapsed": true,
    "jupyter": {
     "outputs_hidden": true
    }
   },
   "outputs": [
    {
     "name": "stdout",
     "output_type": "stream",
     "text": [
      "Collecting tensorflow-gpu==2.3.0\n",
      "  Downloading tensorflow_gpu-2.3.0-cp36-cp36m-manylinux2010_x86_64.whl (320.4 MB)\n",
      "\u001b[K     |████████████████████████████████| 320.4 MB 43 kB/s s eta 0:00:01\n",
      "\u001b[?25hRequirement already satisfied: absl-py>=0.7.0 in /home/ec2-user/anaconda3/envs/tensorflow2_p36/lib/python3.6/site-packages (from tensorflow-gpu==2.3.0) (0.12.0)\n",
      "Requirement already satisfied: protobuf>=3.9.2 in /home/ec2-user/anaconda3/envs/tensorflow2_p36/lib/python3.6/site-packages (from tensorflow-gpu==2.3.0) (3.15.2)\n",
      "Requirement already satisfied: wrapt>=1.11.1 in /home/ec2-user/anaconda3/envs/tensorflow2_p36/lib/python3.6/site-packages (from tensorflow-gpu==2.3.0) (1.12.1)\n",
      "Collecting tensorflow-estimator<2.4.0,>=2.3.0\n",
      "  Downloading tensorflow_estimator-2.3.0-py2.py3-none-any.whl (459 kB)\n",
      "\u001b[K     |████████████████████████████████| 459 kB 74.9 MB/s eta 0:00:01\n",
      "\u001b[?25hRequirement already satisfied: opt-einsum>=2.3.2 in /home/ec2-user/anaconda3/envs/tensorflow2_p36/lib/python3.6/site-packages (from tensorflow-gpu==2.3.0) (3.3.0)\n",
      "Requirement already satisfied: six>=1.12.0 in /home/ec2-user/anaconda3/envs/tensorflow2_p36/lib/python3.6/site-packages (from tensorflow-gpu==2.3.0) (1.15.0)\n",
      "Requirement already satisfied: google-pasta>=0.1.8 in /home/ec2-user/anaconda3/envs/tensorflow2_p36/lib/python3.6/site-packages (from tensorflow-gpu==2.3.0) (0.2.0)\n",
      "Requirement already satisfied: grpcio>=1.8.6 in /home/ec2-user/anaconda3/envs/tensorflow2_p36/lib/python3.6/site-packages (from tensorflow-gpu==2.3.0) (1.38.0)\n",
      "Collecting astunparse==1.6.3\n",
      "  Downloading astunparse-1.6.3-py2.py3-none-any.whl (12 kB)\n",
      "Requirement already satisfied: numpy<1.19.0,>=1.16.0 in /home/ec2-user/anaconda3/envs/tensorflow2_p36/lib/python3.6/site-packages (from tensorflow-gpu==2.3.0) (1.18.5)\n",
      "Requirement already satisfied: h5py<2.11.0,>=2.10.0 in /home/ec2-user/anaconda3/envs/tensorflow2_p36/lib/python3.6/site-packages (from tensorflow-gpu==2.3.0) (2.10.0)\n",
      "Requirement already satisfied: wheel>=0.26 in /home/ec2-user/anaconda3/envs/tensorflow2_p36/lib/python3.6/site-packages (from tensorflow-gpu==2.3.0) (0.36.2)\n",
      "Collecting gast==0.3.3\n",
      "  Downloading gast-0.3.3-py2.py3-none-any.whl (9.7 kB)\n",
      "Collecting scipy==1.4.1\n",
      "  Downloading scipy-1.4.1-cp36-cp36m-manylinux1_x86_64.whl (26.1 MB)\n",
      "\u001b[K     |████████████████████████████████| 26.1 MB 27.7 MB/s eta 0:00:01\n",
      "\u001b[?25hRequirement already satisfied: termcolor>=1.1.0 in /home/ec2-user/anaconda3/envs/tensorflow2_p36/lib/python3.6/site-packages (from tensorflow-gpu==2.3.0) (1.1.0)\n",
      "Collecting tensorboard<3,>=2.3.0\n",
      "  Downloading tensorboard-2.5.0-py3-none-any.whl (6.0 MB)\n",
      "\u001b[K     |████████████████████████████████| 6.0 MB 78.2 MB/s eta 0:00:01\n",
      "\u001b[?25hCollecting keras-preprocessing<1.2,>=1.1.1\n",
      "  Downloading Keras_Preprocessing-1.1.2-py2.py3-none-any.whl (42 kB)\n",
      "\u001b[K     |████████████████████████████████| 42 kB 2.2 MB/s  eta 0:00:01\n",
      "\u001b[?25hCollecting tensorboard-data-server<0.7.0,>=0.6.0\n",
      "  Downloading tensorboard_data_server-0.6.1-py3-none-manylinux2010_x86_64.whl (4.9 MB)\n",
      "\u001b[K     |████████████████████████████████| 4.9 MB 78.3 MB/s eta 0:00:01\n",
      "\u001b[?25hRequirement already satisfied: google-auth-oauthlib<0.5,>=0.4.1 in /home/ec2-user/anaconda3/envs/tensorflow2_p36/lib/python3.6/site-packages (from tensorboard<3,>=2.3.0->tensorflow-gpu==2.3.0) (0.4.4)\n",
      "Requirement already satisfied: setuptools>=41.0.0 in /home/ec2-user/anaconda3/envs/tensorflow2_p36/lib/python3.6/site-packages (from tensorboard<3,>=2.3.0->tensorflow-gpu==2.3.0) (49.6.0.post20210108)\n",
      "Requirement already satisfied: werkzeug>=0.11.15 in /home/ec2-user/anaconda3/envs/tensorflow2_p36/lib/python3.6/site-packages (from tensorboard<3,>=2.3.0->tensorflow-gpu==2.3.0) (1.0.1)\n",
      "Requirement already satisfied: markdown>=2.6.8 in /home/ec2-user/anaconda3/envs/tensorflow2_p36/lib/python3.6/site-packages (from tensorboard<3,>=2.3.0->tensorflow-gpu==2.3.0) (3.3.4)\n",
      "Requirement already satisfied: google-auth<2,>=1.6.3 in /home/ec2-user/anaconda3/envs/tensorflow2_p36/lib/python3.6/site-packages (from tensorboard<3,>=2.3.0->tensorflow-gpu==2.3.0) (1.30.2)\n",
      "Requirement already satisfied: requests<3,>=2.21.0 in /home/ec2-user/anaconda3/envs/tensorflow2_p36/lib/python3.6/site-packages (from tensorboard<3,>=2.3.0->tensorflow-gpu==2.3.0) (2.25.1)\n",
      "Collecting tensorboard-plugin-wit>=1.6.0\n",
      "  Downloading tensorboard_plugin_wit-1.8.0-py3-none-any.whl (781 kB)\n",
      "\u001b[K     |████████████████████████████████| 781 kB 60.4 MB/s eta 0:00:01\n",
      "\u001b[?25hRequirement already satisfied: pyasn1-modules>=0.2.1 in /home/ec2-user/anaconda3/envs/tensorflow2_p36/lib/python3.6/site-packages (from google-auth<2,>=1.6.3->tensorboard<3,>=2.3.0->tensorflow-gpu==2.3.0) (0.2.8)\n",
      "Requirement already satisfied: rsa<5,>=3.1.4 in /home/ec2-user/anaconda3/envs/tensorflow2_p36/lib/python3.6/site-packages (from google-auth<2,>=1.6.3->tensorboard<3,>=2.3.0->tensorflow-gpu==2.3.0) (4.7.2)\n",
      "Requirement already satisfied: cachetools<5.0,>=2.0.0 in /home/ec2-user/anaconda3/envs/tensorflow2_p36/lib/python3.6/site-packages (from google-auth<2,>=1.6.3->tensorboard<3,>=2.3.0->tensorflow-gpu==2.3.0) (4.2.2)\n",
      "Requirement already satisfied: requests-oauthlib>=0.7.0 in /home/ec2-user/anaconda3/envs/tensorflow2_p36/lib/python3.6/site-packages (from google-auth-oauthlib<0.5,>=0.4.1->tensorboard<3,>=2.3.0->tensorflow-gpu==2.3.0) (1.3.0)\n",
      "Requirement already satisfied: importlib-metadata in /home/ec2-user/anaconda3/envs/tensorflow2_p36/lib/python3.6/site-packages (from markdown>=2.6.8->tensorboard<3,>=2.3.0->tensorflow-gpu==2.3.0) (3.7.0)\n",
      "Requirement already satisfied: pyasn1<0.5.0,>=0.4.6 in /home/ec2-user/anaconda3/envs/tensorflow2_p36/lib/python3.6/site-packages (from pyasn1-modules>=0.2.1->google-auth<2,>=1.6.3->tensorboard<3,>=2.3.0->tensorflow-gpu==2.3.0) (0.4.8)\n",
      "Requirement already satisfied: certifi>=2017.4.17 in /home/ec2-user/anaconda3/envs/tensorflow2_p36/lib/python3.6/site-packages (from requests<3,>=2.21.0->tensorboard<3,>=2.3.0->tensorflow-gpu==2.3.0) (2021.5.30)\n",
      "Requirement already satisfied: idna<3,>=2.5 in /home/ec2-user/anaconda3/envs/tensorflow2_p36/lib/python3.6/site-packages (from requests<3,>=2.21.0->tensorboard<3,>=2.3.0->tensorflow-gpu==2.3.0) (2.10)\n",
      "Requirement already satisfied: chardet<5,>=3.0.2 in /home/ec2-user/anaconda3/envs/tensorflow2_p36/lib/python3.6/site-packages (from requests<3,>=2.21.0->tensorboard<3,>=2.3.0->tensorflow-gpu==2.3.0) (3.0.4)\n",
      "Requirement already satisfied: urllib3<1.27,>=1.21.1 in /home/ec2-user/anaconda3/envs/tensorflow2_p36/lib/python3.6/site-packages (from requests<3,>=2.21.0->tensorboard<3,>=2.3.0->tensorflow-gpu==2.3.0) (1.26.5)\n",
      "Requirement already satisfied: oauthlib>=3.0.0 in /home/ec2-user/anaconda3/envs/tensorflow2_p36/lib/python3.6/site-packages (from requests-oauthlib>=0.7.0->google-auth-oauthlib<0.5,>=0.4.1->tensorboard<3,>=2.3.0->tensorflow-gpu==2.3.0) (3.1.1)\n",
      "Requirement already satisfied: typing-extensions>=3.6.4 in /home/ec2-user/anaconda3/envs/tensorflow2_p36/lib/python3.6/site-packages (from importlib-metadata->markdown>=2.6.8->tensorboard<3,>=2.3.0->tensorflow-gpu==2.3.0) (3.7.4.3)\n",
      "Requirement already satisfied: zipp>=0.5 in /home/ec2-user/anaconda3/envs/tensorflow2_p36/lib/python3.6/site-packages (from importlib-metadata->markdown>=2.6.8->tensorboard<3,>=2.3.0->tensorflow-gpu==2.3.0) (3.4.0)\n",
      "Installing collected packages: tensorboard-plugin-wit, tensorboard-data-server, tensorflow-estimator, tensorboard, scipy, keras-preprocessing, gast, astunparse, tensorflow-gpu\n",
      "  Attempting uninstall: tensorflow-estimator\n",
      "    Found existing installation: tensorflow-estimator 2.1.0\n",
      "    Uninstalling tensorflow-estimator-2.1.0:\n",
      "      Successfully uninstalled tensorflow-estimator-2.1.0\n",
      "  Attempting uninstall: tensorboard\n",
      "    Found existing installation: tensorboard 2.1.1\n",
      "    Uninstalling tensorboard-2.1.1:\n",
      "      Successfully uninstalled tensorboard-2.1.1\n",
      "  Attempting uninstall: scipy\n",
      "    Found existing installation: scipy 1.5.3\n",
      "    Uninstalling scipy-1.5.3:\n",
      "      Successfully uninstalled scipy-1.5.3\n",
      "  Attempting uninstall: keras-preprocessing\n",
      "    Found existing installation: Keras-Preprocessing 1.1.0\n",
      "    Uninstalling Keras-Preprocessing-1.1.0:\n",
      "      Successfully uninstalled Keras-Preprocessing-1.1.0\n",
      "  Attempting uninstall: gast\n",
      "    Found existing installation: gast 0.2.2\n",
      "    Uninstalling gast-0.2.2:\n",
      "      Successfully uninstalled gast-0.2.2\n",
      "  Attempting uninstall: tensorflow-gpu\n",
      "    Found existing installation: tensorflow-gpu 2.1.3\n",
      "    Uninstalling tensorflow-gpu-2.1.3:\n",
      "      Successfully uninstalled tensorflow-gpu-2.1.3\n",
      "Successfully installed astunparse-1.6.3 gast-0.3.3 keras-preprocessing-1.1.2 scipy-1.4.1 tensorboard-2.5.0 tensorboard-data-server-0.6.1 tensorboard-plugin-wit-1.8.0 tensorflow-estimator-2.3.0 tensorflow-gpu-2.3.0\n",
      "\u001b[33mWARNING: You are using pip version 21.1.2; however, version 21.2.1 is available.\n",
      "You should consider upgrading via the '/home/ec2-user/anaconda3/envs/tensorflow2_p36/bin/python -m pip install --upgrade pip' command.\u001b[0m\n"
     ]
    }
   ],
   "source": [
    "! pip install tensorflow-gpu==2.3.0 # for multi-GPU training"
   ]
  },
  {
   "cell_type": "code",
   "execution_count": null,
   "id": "5d0f4d5a",
   "metadata": {},
   "outputs": [],
   "source": []
  },
  {
   "cell_type": "code",
   "execution_count": null,
   "id": "88e59154",
   "metadata": {},
   "outputs": [],
   "source": []
  },
  {
   "cell_type": "code",
   "execution_count": 5,
   "id": "03dc702e",
   "metadata": {},
   "outputs": [],
   "source": [
    "# import tensorflow as tf\n",
    "# import numpy as np\n",
    "\n",
    "# real = np.array([[0, 0, 1, 0], [0, 1, 1, 100]])\n",
    "# y=tf.math.equal(real, 0)\n",
    "# print(y)\n",
    "# z=tf.math.logical_not(y)\n",
    "# print(z)"
   ]
  },
  {
   "cell_type": "code",
   "execution_count": null,
   "id": "58c6afe3",
   "metadata": {},
   "outputs": [],
   "source": []
  },
  {
   "cell_type": "code",
   "execution_count": null,
   "id": "f328ae6e",
   "metadata": {},
   "outputs": [],
   "source": []
  },
  {
   "cell_type": "code",
   "execution_count": null,
   "id": "a23aa4ca",
   "metadata": {},
   "outputs": [],
   "source": []
  },
  {
   "cell_type": "code",
   "execution_count": 9,
   "id": "273f54ae",
   "metadata": {},
   "outputs": [],
   "source": [
    "# !rm -rf qualitative_results\n",
    "# !rm -rf summary\n",
    "# !rm -rf models\n",
    "# !rm -rf logs"
   ]
  },
  {
   "cell_type": "code",
   "execution_count": null,
   "id": "09cc0042",
   "metadata": {},
   "outputs": [],
   "source": []
  },
  {
   "cell_type": "code",
   "execution_count": null,
   "id": "d4ee26ce",
   "metadata": {},
   "outputs": [
    {
     "name": "stdout",
     "output_type": "stream",
     "text": [
      "WARNING:tensorflow:From /home/ec2-user/anaconda3/envs/tensorflow2_p36/lib/python3.6/site-packages/tensorflow/python/data/ops/multi_device_iterator_ops.py:601: get_next_as_optional (from tensorflow.python.data.ops.iterator_ops) is deprecated and will be removed in a future version.\n",
      "Instructions for updating:\n",
      "Use `tf.data.Iterator.get_next_as_optional()` instead.\n",
      "2021-07-25 08:31:09.202915: E tensorflow/core/grappler/optimizers/scoped_allocator_optimizer.cc:1138] ScopedAllocatorOptimizer: Internal: Complete shape not known for Adam/allreduce/CollectiveReduce_68\n",
      "2021-07-25 08:31:09.206608: E tensorflow/core/grappler/optimizers/meta_optimizer.cc:581] scoped_allocator_optimizer failed: Internal: Complete shape not known for Adam/allreduce/CollectiveReduce_68\n"
     ]
    }
   ],
   "source": [
    "# !python3 model.py\n",
    "!python3 main.py\n",
    "# !python3 generate_recommendations.py\n",
    "# !python3 dataset.py\n",
    "# !python3 config.py"
   ]
  },
  {
   "cell_type": "code",
   "execution_count": 18,
   "id": "7d4df30e",
   "metadata": {},
   "outputs": [],
   "source": []
  },
  {
   "cell_type": "code",
   "execution_count": null,
   "id": "0c7fb0c7",
   "metadata": {},
   "outputs": [],
   "source": []
  },
  {
   "cell_type": "code",
   "execution_count": null,
   "id": "335271f3",
   "metadata": {},
   "outputs": [],
   "source": []
  },
  {
   "cell_type": "code",
   "execution_count": null,
   "id": "adecc503",
   "metadata": {},
   "outputs": [],
   "source": []
  },
  {
   "cell_type": "code",
   "execution_count": null,
   "id": "a8e66794",
   "metadata": {},
   "outputs": [],
   "source": []
  },
  {
   "cell_type": "code",
   "execution_count": 24,
   "id": "5e324ed1",
   "metadata": {},
   "outputs": [
    {
     "name": "stdout",
     "output_type": "stream",
     "text": [
      "[[0.0512934  0.43078291]\n",
      " [2.30258512 2.30258512]]\n",
      "(2, 2)\n",
      "(2, 2, 3)\n",
      "(2, 2)\n"
     ]
    }
   ],
   "source": [
    "import tensorflow as tf\n",
    "import numpy as np\n",
    "y_true = np.array([[1,1], [2,0]])\n",
    "y_pred = np.array([[[0.05, 0.95, 0], [0.05, 0.65, 0.3]], [[0.1, 0.8, 0.1], [0.1, 0.75, 0.15]]])\n",
    "# Using 'auto'/'sum_over_batch_size' reduction type.\n",
    "scce = tf.keras.losses.SparseCategoricalCrossentropy(reduction=tf.keras.losses.Reduction.NONE)\n",
    "loss = scce(y_true, y_pred).numpy()\n",
    "print(loss)\n",
    "\n",
    "print(y_true.shape)\n",
    "print(y_pred.shape)\n",
    "print(loss.shape)"
   ]
  },
  {
   "cell_type": "code",
   "execution_count": null,
   "id": "03cdb3cf",
   "metadata": {},
   "outputs": [],
   "source": [
    "import numpy as np"
   ]
  },
  {
   "cell_type": "code",
   "execution_count": null,
   "id": "ae3950ee",
   "metadata": {},
   "outputs": [],
   "source": []
  },
  {
   "cell_type": "code",
   "execution_count": null,
   "id": "80f8d88f",
   "metadata": {},
   "outputs": [],
   "source": []
  },
  {
   "cell_type": "markdown",
   "id": "3c860ce1",
   "metadata": {},
   "source": [
    "# "
   ]
  },
  {
   "cell_type": "markdown",
   "id": "3ba48bbc",
   "metadata": {},
   "source": [
    "# EXP"
   ]
  },
  {
   "cell_type": "code",
   "execution_count": null,
   "id": "6668f632",
   "metadata": {},
   "outputs": [],
   "source": []
  },
  {
   "cell_type": "code",
   "execution_count": null,
   "id": "79e45c1c",
   "metadata": {},
   "outputs": [],
   "source": []
  },
  {
   "cell_type": "code",
   "execution_count": null,
   "id": "19ef515a",
   "metadata": {},
   "outputs": [],
   "source": []
  },
  {
   "cell_type": "code",
   "execution_count": null,
   "id": "89900923",
   "metadata": {},
   "outputs": [],
   "source": []
  },
  {
   "cell_type": "code",
   "execution_count": null,
   "id": "72d0dc10",
   "metadata": {},
   "outputs": [],
   "source": []
  },
  {
   "cell_type": "code",
   "execution_count": null,
   "id": "30653fc3",
   "metadata": {},
   "outputs": [],
   "source": []
  },
  {
   "cell_type": "code",
   "execution_count": null,
   "id": "8ffc0a31",
   "metadata": {},
   "outputs": [],
   "source": []
  },
  {
   "cell_type": "code",
   "execution_count": null,
   "id": "f86a3044",
   "metadata": {},
   "outputs": [],
   "source": []
  },
  {
   "cell_type": "code",
   "execution_count": null,
   "id": "8df4e0c8",
   "metadata": {},
   "outputs": [],
   "source": []
  },
  {
   "cell_type": "code",
   "execution_count": null,
   "id": "8ab7a9ef",
   "metadata": {},
   "outputs": [],
   "source": []
  },
  {
   "cell_type": "code",
   "execution_count": null,
   "id": "f5175219",
   "metadata": {},
   "outputs": [],
   "source": []
  },
  {
   "cell_type": "code",
   "execution_count": null,
   "id": "20728985",
   "metadata": {},
   "outputs": [],
   "source": []
  },
  {
   "cell_type": "code",
   "execution_count": null,
   "id": "8a8dcb6d",
   "metadata": {},
   "outputs": [],
   "source": []
  },
  {
   "cell_type": "code",
   "execution_count": null,
   "id": "3679fe1f",
   "metadata": {},
   "outputs": [],
   "source": []
  },
  {
   "cell_type": "code",
   "execution_count": null,
   "id": "00203f60",
   "metadata": {},
   "outputs": [],
   "source": []
  },
  {
   "cell_type": "code",
   "execution_count": null,
   "id": "ab623564",
   "metadata": {},
   "outputs": [],
   "source": []
  },
  {
   "cell_type": "code",
   "execution_count": null,
   "id": "16c09590",
   "metadata": {},
   "outputs": [],
   "source": []
  },
  {
   "cell_type": "code",
   "execution_count": null,
   "id": "cfc99456",
   "metadata": {},
   "outputs": [],
   "source": []
  },
  {
   "cell_type": "code",
   "execution_count": null,
   "id": "d7295c72",
   "metadata": {},
   "outputs": [],
   "source": []
  },
  {
   "cell_type": "code",
   "execution_count": 2,
   "id": "fe611015",
   "metadata": {},
   "outputs": [
    {
     "name": "stdout",
     "output_type": "stream",
     "text": [
      "INFO:tensorflow:Using MirroredStrategy with devices ('/device:GPU:0', '/device:GPU:1', '/device:GPU:2', '/device:GPU:3', '/device:GPU:4', '/device:GPU:5', '/device:GPU:6', '/device:GPU:7')\n",
      "INFO:tensorflow:Single-worker MultiWorkerMirroredStrategy with local_devices = ('/device:GPU:0', '/device:GPU:1', '/device:GPU:2', '/device:GPU:3', '/device:GPU:4', '/device:GPU:5', '/device:GPU:6', '/device:GPU:7'), communication = CollectiveCommunication.AUTO\n",
      "\n",
      ">>>>> Building vocab... >>>>>\n",
      "\n",
      "Loading build_vocab_dict...\n",
      "<<<<< Vocab built... <<<<<\n",
      "\n",
      "\n",
      ">>>>> Mapping song2info... >>>>>\n",
      "\n",
      "Loading song2info dict...\n",
      "<<<<< Mapped song2info... <<<<<\n",
      "\n",
      "loading\n",
      "Model loaded: models/models_withtimebuckets_rnn_7_day_data_2021_06_29_200418_1024_64_10/model_00_124999\n"
     ]
    }
   ],
   "source": [
    "import pandas as pd\n",
    "import numpy as np\n",
    "\n",
    "from model import rnn_reco_model\n",
    "from dataset import wynk_sessions_dataset\n",
    "from config import *\n",
    "\n",
    "# Make dataset\n",
    "dataset = wynk_sessions_dataset()\n",
    "\n",
    "# Initialize model (and load the weights)\n",
    "model = rnn_reco_model(dataset.vocab_size)   \n",
    "\n",
    "LOAD_MODEL_PATH = \"models/models_withtimebuckets_rnn_7_day_data_2021_06_29_200418_1024_64_10/model_00_124999\"\n",
    "if LOAD_MODEL:\n",
    "#     model.build(input_shape=((None, MAX_LEN), (None, MAX_LEN)))    \n",
    "#     print(model.summary())\n",
    "    print(\"loading\")\n",
    "    model.load_weights(LOAD_MODEL_PATH)\n",
    "    print(f\"Model loaded: {LOAD_MODEL_PATH}\")    "
   ]
  },
  {
   "cell_type": "code",
   "execution_count": 4,
   "id": "ed52de0b",
   "metadata": {},
   "outputs": [
    {
     "name": "stdout",
     "output_type": "stream",
     "text": [
      "song_inp.shape:  (1, 10)\n",
      "time_bucket_inp.shape:  (1, 10)\n"
     ]
    }
   ],
   "source": [
    "song_inp = tf.constant(np.random.randint(1, 3, (1,10)))\n",
    "time_bucket_inp = tf.constant(np.random.randint(1, 3, (1,10)))\n",
    "print(\"song_inp.shape: \", song_inp.shape)\n",
    "print(\"time_bucket_inp.shape: \", time_bucket_inp.shape)\n",
    "\n",
    "# q()\n",
    "_ = model(song_emb_inp=song_inp,\n",
    "          time_bucket_emb_inp=time_bucket_inp)"
   ]
  },
  {
   "cell_type": "code",
   "execution_count": 8,
   "id": "eb20ed19",
   "metadata": {},
   "outputs": [
    {
     "name": "stdout",
     "output_type": "stream",
     "text": [
      "<class 'tensorflow.python.ops.resource_variable_ops.ResourceVariable'> (229, 32)\n"
     ]
    },
    {
     "data": {
      "text/plain": [
       "39.466763"
      ]
     },
     "execution_count": 8,
     "metadata": {},
     "output_type": "execute_result"
    }
   ],
   "source": [
    "# for i in model.layers:\n",
    "#     print(type(i), i.name, type(i.weights), len(i.weights))\n",
    "\n",
    "# q()\n",
    "# x = model.song_emb.weights[0]\n",
    "x = model.time_bucket_emb.weights[0]\n",
    "\n",
    "print(type(x), x.shape)\n",
    "\n",
    "np.sum(x.numpy())\n",
    "# x\n",
    "\n",
    "\n",
    "#         print(model.summary())\n",
    "#         model.load_weights(LOAD_MODEL_PATH)\n"
   ]
  },
  {
   "cell_type": "code",
   "execution_count": 12,
   "id": "abf1a274",
   "metadata": {},
   "outputs": [
    {
     "data": {
      "text/plain": [
       "'\\n# new model\\nsong 83.67507\\ntime -1.1676371\\n\\n# trainied model\\nsong -199908.17\\ntime 38.30059\\n'"
      ]
     },
     "execution_count": 12,
     "metadata": {},
     "output_type": "execute_result"
    }
   ],
   "source": [
    "'''\n",
    "# new model\n",
    "song 83.67507\n",
    "time -1.1676371\n",
    "\n",
    "# trainied model\n",
    "song -199908.17\n",
    "time 38.30059\n",
    "'''"
   ]
  },
  {
   "cell_type": "code",
   "execution_count": 30,
   "id": "30fad362",
   "metadata": {},
   "outputs": [],
   "source": [
    "# test_song_ids_df = pd.read_csv(QUALITATIVE_TEST_DATA_PATH)\n",
    "# print(test_song_ids_df.head(20))\n",
    "\n",
    "# test_song_ids = [\"srch_unisysinfo_M09050388\", \"srch_sonymusic_INS171602370\", \"srch_sonymusic_698050\", \"srch_hungama_396873\"]\n",
    "# for s in test_song_ids:\n",
    "#     print(s, dataset.song2info[s])\n",
    "\n",
    "# srch_unisysinfo_M09050388 TITLE: Dil Diyan Gallan | ALBUM: Tiger Zinda Hai | ARTIST: ,  | FREQUENCY: 217086 | LANG: hindi | YEAR: 2017\n",
    "# srch_sonymusic_INS171602370 TITLE: Channa Mereya | ALBUM: Ae Dil Hai Mushkil | ARTIST:  | FREQUENCY: 309043 | LANG: hindi | YEAR: 2016\n",
    "# srch_sonymusic_698050 TITLE: Maa Tujhe Salam | ALBUM: Vande Mataram Maa Tujhe Salaam | ARTIST:  | FREQUENCY: 21259 | LANG: hindi | YEAR: 2006\n",
    "# srch_hungama_396873 TITLE: Kun Faya Kun | ALBUM: Rockstar | ARTIST: Mohit Chauhan,A R Rahman,Javed Ali | FREQUENCY: 168921 | LANG: hindi | YEAR: 2011"
   ]
  },
  {
   "cell_type": "code",
   "execution_count": 4,
   "id": "1fb62f5c",
   "metadata": {},
   "outputs": [
    {
     "name": "stdout",
     "output_type": "stream",
     "text": [
      "================\n",
      "time 0: 17997: 0.01167581882327795\n",
      "TITLE: Bharat Humko Jaan Se Pyara Hai | ALBUM: Roja | ARTIST: Hariharan,A R Rahman | FREQUENCY: 2980 | LANG: hindi | YEAR: 1994\n",
      "================\n",
      "time 4: 5611: 0.00964123010635376\n",
      "TITLE: Mitwa | ALBUM: Lagaan | ARTIST: Alka Yagnik,Udit Narayan,Srinivas,Sukhwinder Singh,A R Rahman | FREQUENCY: 13747 | LANG: hindi | YEAR: 2001\n",
      "================\n",
      "time 9: 5611: 0.00972586777061224\n",
      "TITLE: Mitwa | ALBUM: Lagaan | ARTIST: Alka Yagnik,Udit Narayan,Srinivas,Sukhwinder Singh,A R Rahman | FREQUENCY: 13747 | LANG: hindi | YEAR: 2001\n",
      "================\n",
      "time 13: 5611: 0.01098481472581625\n",
      "TITLE: Mitwa | ALBUM: Lagaan | ARTIST: Alka Yagnik,Udit Narayan,Srinivas,Sukhwinder Singh,A R Rahman | FREQUENCY: 13747 | LANG: hindi | YEAR: 2001\n",
      "================\n",
      "time 18: 5611: 0.010092789307236671\n",
      "TITLE: Mitwa | ALBUM: Lagaan | ARTIST: Alka Yagnik,Udit Narayan,Srinivas,Sukhwinder Singh,A R Rahman | FREQUENCY: 13747 | LANG: hindi | YEAR: 2001\n",
      "================\n",
      "time 23: 5611: 0.009190144948661327\n",
      "TITLE: Mitwa | ALBUM: Lagaan | ARTIST: Alka Yagnik,Udit Narayan,Srinivas,Sukhwinder Singh,A R Rahman | FREQUENCY: 13747 | LANG: hindi | YEAR: 2001\n",
      "================\n",
      "time 27: 8351: 0.010733013972640038\n",
      "TITLE: Chale Chalo | ALBUM: Lagaan  | ARTIST: Srinivas,A R Rahman | FREQUENCY: 8637 | LANG: hindi | YEAR: 2001\n",
      "================\n",
      "time 32: 5611: 0.009515113197267056\n",
      "TITLE: Mitwa | ALBUM: Lagaan | ARTIST: Alka Yagnik,Udit Narayan,Srinivas,Sukhwinder Singh,A R Rahman | FREQUENCY: 13747 | LANG: hindi | YEAR: 2001\n",
      "================\n",
      "time 37: 5611: 0.008737396448850632\n",
      "TITLE: Mitwa | ALBUM: Lagaan | ARTIST: Alka Yagnik,Udit Narayan,Srinivas,Sukhwinder Singh,A R Rahman | FREQUENCY: 13747 | LANG: hindi | YEAR: 2001\n",
      "================\n",
      "time 41: 5611: 0.008325019851326942\n",
      "TITLE: Mitwa | ALBUM: Lagaan | ARTIST: Alka Yagnik,Udit Narayan,Srinivas,Sukhwinder Singh,A R Rahman | FREQUENCY: 13747 | LANG: hindi | YEAR: 2001\n",
      "================\n",
      "time 46: 5611: 0.008461443707346916\n",
      "TITLE: Mitwa | ALBUM: Lagaan | ARTIST: Alka Yagnik,Udit Narayan,Srinivas,Sukhwinder Singh,A R Rahman | FREQUENCY: 13747 | LANG: hindi | YEAR: 2001\n",
      "================\n",
      "time 51: 8351: 0.008259965106844902\n",
      "TITLE: Chale Chalo | ALBUM: Lagaan  | ARTIST: Srinivas,A R Rahman | FREQUENCY: 8637 | LANG: hindi | YEAR: 2001\n",
      "================\n",
      "time 55: 8351: 0.009669695049524307\n",
      "TITLE: Chale Chalo | ALBUM: Lagaan  | ARTIST: Srinivas,A R Rahman | FREQUENCY: 8637 | LANG: hindi | YEAR: 2001\n",
      "================\n",
      "time 60: 17997: 0.008124061860144138\n",
      "TITLE: Bharat Humko Jaan Se Pyara Hai | ALBUM: Roja | ARTIST: Hariharan,A R Rahman | FREQUENCY: 2980 | LANG: hindi | YEAR: 1994\n",
      "================\n",
      "time 65: 17997: 0.00976196676492691\n",
      "TITLE: Bharat Humko Jaan Se Pyara Hai | ALBUM: Roja | ARTIST: Hariharan,A R Rahman | FREQUENCY: 2980 | LANG: hindi | YEAR: 1994\n",
      "================\n",
      "time 69: 17997: 0.008730512112379074\n",
      "TITLE: Bharat Humko Jaan Se Pyara Hai | ALBUM: Roja | ARTIST: Hariharan,A R Rahman | FREQUENCY: 2980 | LANG: hindi | YEAR: 1994\n",
      "================\n",
      "time 74: 5611: 0.008487949147820473\n",
      "TITLE: Mitwa | ALBUM: Lagaan | ARTIST: Alka Yagnik,Udit Narayan,Srinivas,Sukhwinder Singh,A R Rahman | FREQUENCY: 13747 | LANG: hindi | YEAR: 2001\n",
      "================\n",
      "time 79: 17997: 0.009398473426699638\n",
      "TITLE: Bharat Humko Jaan Se Pyara Hai | ALBUM: Roja | ARTIST: Hariharan,A R Rahman | FREQUENCY: 2980 | LANG: hindi | YEAR: 1994\n",
      "================\n",
      "time 83: 17997: 0.007944867946207523\n",
      "TITLE: Bharat Humko Jaan Se Pyara Hai | ALBUM: Roja | ARTIST: Hariharan,A R Rahman | FREQUENCY: 2980 | LANG: hindi | YEAR: 1994\n",
      "================\n",
      "time 88: 8351: 0.00938308984041214\n",
      "TITLE: Chale Chalo | ALBUM: Lagaan  | ARTIST: Srinivas,A R Rahman | FREQUENCY: 8637 | LANG: hindi | YEAR: 2001\n",
      "================\n",
      "time 93: 17997: 0.008661048486828804\n",
      "TITLE: Bharat Humko Jaan Se Pyara Hai | ALBUM: Roja | ARTIST: Hariharan,A R Rahman | FREQUENCY: 2980 | LANG: hindi | YEAR: 1994\n",
      "================\n",
      "time 97: 5611: 0.008039025589823723\n",
      "TITLE: Mitwa | ALBUM: Lagaan | ARTIST: Alka Yagnik,Udit Narayan,Srinivas,Sukhwinder Singh,A R Rahman | FREQUENCY: 13747 | LANG: hindi | YEAR: 2001\n",
      "================\n",
      "time 102: 17997: 0.007636206224560738\n",
      "TITLE: Bharat Humko Jaan Se Pyara Hai | ALBUM: Roja | ARTIST: Hariharan,A R Rahman | FREQUENCY: 2980 | LANG: hindi | YEAR: 1994\n",
      "================\n",
      "time 107: 17997: 0.009019438177347183\n",
      "TITLE: Bharat Humko Jaan Se Pyara Hai | ALBUM: Roja | ARTIST: Hariharan,A R Rahman | FREQUENCY: 2980 | LANG: hindi | YEAR: 1994\n",
      "================\n",
      "time 111: 17997: 0.00875296350568533\n",
      "TITLE: Bharat Humko Jaan Se Pyara Hai | ALBUM: Roja | ARTIST: Hariharan,A R Rahman | FREQUENCY: 2980 | LANG: hindi | YEAR: 1994\n",
      "================\n",
      "time 116: 5611: 0.009225904010236263\n",
      "TITLE: Mitwa | ALBUM: Lagaan | ARTIST: Alka Yagnik,Udit Narayan,Srinivas,Sukhwinder Singh,A R Rahman | FREQUENCY: 13747 | LANG: hindi | YEAR: 2001\n",
      "================\n",
      "time 120: 17997: 0.009081440046429634\n",
      "TITLE: Bharat Humko Jaan Se Pyara Hai | ALBUM: Roja | ARTIST: Hariharan,A R Rahman | FREQUENCY: 2980 | LANG: hindi | YEAR: 1994\n",
      "================\n",
      "time 125: 17997: 0.008624075911939144\n",
      "TITLE: Bharat Humko Jaan Se Pyara Hai | ALBUM: Roja | ARTIST: Hariharan,A R Rahman | FREQUENCY: 2980 | LANG: hindi | YEAR: 1994\n",
      "================\n",
      "time 130: 17997: 0.009244347922503948\n",
      "TITLE: Bharat Humko Jaan Se Pyara Hai | ALBUM: Roja | ARTIST: Hariharan,A R Rahman | FREQUENCY: 2980 | LANG: hindi | YEAR: 1994\n",
      "================\n",
      "time 134: 17997: 0.008754858747124672\n",
      "TITLE: Bharat Humko Jaan Se Pyara Hai | ALBUM: Roja | ARTIST: Hariharan,A R Rahman | FREQUENCY: 2980 | LANG: hindi | YEAR: 1994\n",
      "================\n",
      "time 139: 17997: 0.007649517152458429\n",
      "TITLE: Bharat Humko Jaan Se Pyara Hai | ALBUM: Roja | ARTIST: Hariharan,A R Rahman | FREQUENCY: 2980 | LANG: hindi | YEAR: 1994\n",
      "================\n",
      "time 144: 8351: 0.007666175719350576\n",
      "TITLE: Chale Chalo | ALBUM: Lagaan  | ARTIST: Srinivas,A R Rahman | FREQUENCY: 8637 | LANG: hindi | YEAR: 2001\n",
      "================\n",
      "time 148: 17997: 0.007929719053208828\n",
      "TITLE: Bharat Humko Jaan Se Pyara Hai | ALBUM: Roja | ARTIST: Hariharan,A R Rahman | FREQUENCY: 2980 | LANG: hindi | YEAR: 1994\n",
      "================\n",
      "time 153: 17997: 0.007380031980574131\n",
      "TITLE: Bharat Humko Jaan Se Pyara Hai | ALBUM: Roja | ARTIST: Hariharan,A R Rahman | FREQUENCY: 2980 | LANG: hindi | YEAR: 1994\n",
      "================\n",
      "time 158: 17997: 0.008188915438950062\n",
      "TITLE: Bharat Humko Jaan Se Pyara Hai | ALBUM: Roja | ARTIST: Hariharan,A R Rahman | FREQUENCY: 2980 | LANG: hindi | YEAR: 1994\n",
      "================\n",
      "time 162: 8351: 0.008583556860685349\n",
      "TITLE: Chale Chalo | ALBUM: Lagaan  | ARTIST: Srinivas,A R Rahman | FREQUENCY: 8637 | LANG: hindi | YEAR: 2001\n",
      "================\n",
      "time 167: 17997: 0.008294213563203812\n",
      "TITLE: Bharat Humko Jaan Se Pyara Hai | ALBUM: Roja | ARTIST: Hariharan,A R Rahman | FREQUENCY: 2980 | LANG: hindi | YEAR: 1994\n",
      "================\n",
      "time 172: 17997: 0.008193624205887318\n",
      "TITLE: Bharat Humko Jaan Se Pyara Hai | ALBUM: Roja | ARTIST: Hariharan,A R Rahman | FREQUENCY: 2980 | LANG: hindi | YEAR: 1994\n",
      "================\n",
      "time 176: 8351: 0.009004362858831882\n",
      "TITLE: Chale Chalo | ALBUM: Lagaan  | ARTIST: Srinivas,A R Rahman | FREQUENCY: 8637 | LANG: hindi | YEAR: 2001\n",
      "================\n",
      "time 181: 17997: 0.009576240554451942\n",
      "TITLE: Bharat Humko Jaan Se Pyara Hai | ALBUM: Roja | ARTIST: Hariharan,A R Rahman | FREQUENCY: 2980 | LANG: hindi | YEAR: 1994\n",
      "================\n",
      "time 186: 17997: 0.010147370398044586\n",
      "TITLE: Bharat Humko Jaan Se Pyara Hai | ALBUM: Roja | ARTIST: Hariharan,A R Rahman | FREQUENCY: 2980 | LANG: hindi | YEAR: 1994\n",
      "================\n",
      "time 190: 17997: 0.008879320695996284\n",
      "TITLE: Bharat Humko Jaan Se Pyara Hai | ALBUM: Roja | ARTIST: Hariharan,A R Rahman | FREQUENCY: 2980 | LANG: hindi | YEAR: 1994\n",
      "================\n",
      "time 195: 17997: 0.008895788341760635\n",
      "TITLE: Bharat Humko Jaan Se Pyara Hai | ALBUM: Roja | ARTIST: Hariharan,A R Rahman | FREQUENCY: 2980 | LANG: hindi | YEAR: 1994\n",
      "================\n",
      "time 200: 17997: 0.007923473604023457\n",
      "TITLE: Bharat Humko Jaan Se Pyara Hai | ALBUM: Roja | ARTIST: Hariharan,A R Rahman | FREQUENCY: 2980 | LANG: hindi | YEAR: 1994\n",
      "================\n",
      "time 204: 17997: 0.008273574523627758\n",
      "TITLE: Bharat Humko Jaan Se Pyara Hai | ALBUM: Roja | ARTIST: Hariharan,A R Rahman | FREQUENCY: 2980 | LANG: hindi | YEAR: 1994\n",
      "================\n",
      "time 209: 17997: 0.009006909094750881\n",
      "TITLE: Bharat Humko Jaan Se Pyara Hai | ALBUM: Roja | ARTIST: Hariharan,A R Rahman | FREQUENCY: 2980 | LANG: hindi | YEAR: 1994\n",
      "================\n",
      "time 214: 7814: 0.010129272937774658\n",
      "TITLE: Yeh Jo Des Hai Tera | ALBUM: Swades | ARTIST: A R Rahman | FREQUENCY: 9388 | LANG: hindi | YEAR: 2011\n",
      "================\n",
      "time 218: 17997: 0.009267371147871017\n",
      "TITLE: Bharat Humko Jaan Se Pyara Hai | ALBUM: Roja | ARTIST: Hariharan,A R Rahman | FREQUENCY: 2980 | LANG: hindi | YEAR: 1994\n",
      "================\n",
      "time 223: 7814: 0.01046944223344326\n",
      "TITLE: Yeh Jo Des Hai Tera | ALBUM: Swades | ARTIST: A R Rahman | FREQUENCY: 9388 | LANG: hindi | YEAR: 2011\n",
      "================\n",
      "time 228: 17997: 0.010197474621236324\n",
      "TITLE: Bharat Humko Jaan Se Pyara Hai | ALBUM: Roja | ARTIST: Hariharan,A R Rahman | FREQUENCY: 2980 | LANG: hindi | YEAR: 1994\n"
     ]
    }
   ],
   "source": [
    "song_inp = dataset.item2idx[\"srch_hungama_396873\"] # Kun Faya Kun\n",
    "song_inp = dataset.item2idx[\"srch_unisysinfo_M09050388\"] # Dil Diyan Gallan\n",
    "song_inp = dataset.item2idx[\"srch_sonymusic_INS171602370\"] # Channa Mereya\n",
    "song_inp = dataset.item2idx[\"srch_sonymusic_698050\"] # Maa Tujhe Salam\n",
    "\n",
    "def get_next_song_pred(song_inp, time_bucket_inp, num_recommendation_timesteps=1):\n",
    "    song_inp = np.array([[song_inp]])\n",
    "    time_bucket_inp = np.array([[time_bucket_inp]])\n",
    "    \n",
    "    exclude = np.zeros([1, dataset.vocab_size]) #(1, vocab_size)\n",
    "\n",
    "    for idx in song_inp[0]:\n",
    "        exclude[0, idx] = 1 \n",
    "\n",
    "    initial_state = None #[state_h, state_c]\n",
    "    \n",
    "    for t in range(num_recommendation_timesteps):\n",
    "        probs, state_h, state_c = model(song_emb_inp=song_inp,\n",
    "                                        time_bucket_emb_inp=time_bucket_inp,\n",
    "                                        training=False, \n",
    "                                        initial_state=initial_state) # probs (1, num_items)    \n",
    "        \n",
    "        probs = probs*(1-exclude)             # probs (1, vocab_size)\n",
    "        pred = tf.math.argmax(probs, axis=-1) # (1, )\n",
    "        \n",
    "        exclude[0, int(pred[0])] = 1 #(1, vocab_size)\n",
    "\n",
    "        inp = tf.expand_dims(pred, axis = -1) # (1, 1)        \n",
    "        initial_state = [state_h, state_c]\n",
    "        next_song_pred = int(pred[0])\n",
    "                        \n",
    "    print(f\"time {time_bucket_inp[0, 0]}: {int(pred[0])}: {probs[0, int(pred[0])].numpy()}\")\n",
    "    return next_song_pred\n",
    "\n",
    "for t in [int(i) for i in np.linspace(0, 228, num=50)]:\n",
    "    print(\"================\")\n",
    "    next_song_pred = get_next_song_pred(song_inp=song_inp, time_bucket_inp=t)\n",
    "    print(dataset.song2info[dataset.idx2item[next_song_pred]])\n",
    "\n"
   ]
  },
  {
   "cell_type": "code",
   "execution_count": null,
   "id": "e668dfca",
   "metadata": {},
   "outputs": [],
   "source": []
  },
  {
   "cell_type": "code",
   "execution_count": null,
   "id": "e190ecdf",
   "metadata": {},
   "outputs": [],
   "source": []
  },
  {
   "cell_type": "code",
   "execution_count": null,
   "id": "f05b9fcb",
   "metadata": {},
   "outputs": [],
   "source": []
  },
  {
   "cell_type": "code",
   "execution_count": null,
   "id": "60d7156f",
   "metadata": {},
   "outputs": [],
   "source": []
  },
  {
   "cell_type": "code",
   "execution_count": null,
   "id": "7bf68171",
   "metadata": {},
   "outputs": [],
   "source": []
  }
 ],
 "metadata": {
  "kernelspec": {
   "display_name": "conda_tensorflow2_p36",
   "language": "python",
   "name": "conda_tensorflow2_p36"
  },
  "language_info": {
   "codemirror_mode": {
    "name": "ipython",
    "version": 3
   },
   "file_extension": ".py",
   "mimetype": "text/x-python",
   "name": "python",
   "nbconvert_exporter": "python",
   "pygments_lexer": "ipython3",
   "version": "3.6.13"
  }
 },
 "nbformat": 4,
 "nbformat_minor": 5
}
