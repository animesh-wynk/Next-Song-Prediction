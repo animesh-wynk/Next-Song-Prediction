{
 "cells": [
  {
   "cell_type": "code",
   "execution_count": 11,
   "id": "c0351b97",
   "metadata": {},
   "outputs": [],
   "source": [
    "import pandas as pd\n",
    "\n",
    "# DATA\n",
    "DATA_BASE_PATH = \"s3://wynk-ml-workspace/projects/_temp/rnn_recommendation/with_metadata/day=2021-05-16to2021-05-22/\"\n",
    "TRAIN_DATA_DIR_PATH = \"train/\"\n",
    "VAL_DATA_DIR_PATH = \"val/\"\n",
    "TEST_DATA_DIR_PATH = \"test/\"\n",
    "\n",
    "# TRAIN DATA\n",
    "TRAIN_DATA_PATH = (DATA_BASE_PATH + TRAIN_DATA_DIR_PATH + \n",
    "                   \"SessionizedSongDataPreprocessedPopBias_4_concat_seq_csv/part-00000-5af881ad-6a26-4315-ad13-754b610a7570-c000.csv\")\n",
    "TRAIN_SONGS_INFO_PATH = (DATA_BASE_PATH + TRAIN_DATA_DIR_PATH + \n",
    "                         \"song2info/part-00000-47cf8333-7ca4-4c7e-9728-060ce46eb410-c000.snappy.parquet\")"
   ]
  },
  {
   "cell_type": "code",
   "execution_count": 44,
   "id": "f0d0ab14",
   "metadata": {},
   "outputs": [
    {
     "name": "stdout",
     "output_type": "stream",
     "text": [
      "train_songs_info_df.shape  :  (149345, 7)\n"
     ]
    }
   ],
   "source": [
    "            train_songs_info_df = pd.read_parquet(TRAIN_SONGS_INFO_PATH, \n",
    "                                                  columns=[\"song_id\", \"title\", \"album\", \"artist\", \"frequency\", \"language\", \"publishedYear\"])\n",
    "            print('train_songs_info_df.shape  : ', train_songs_info_df.shape) #(10906107, 6)"
   ]
  },
  {
   "cell_type": "code",
   "execution_count": null,
   "id": "f2b2e584",
   "metadata": {},
   "outputs": [],
   "source": []
  },
  {
   "cell_type": "code",
   "execution_count": null,
   "id": "6acf0c54",
   "metadata": {},
   "outputs": [],
   "source": []
  },
  {
   "cell_type": "code",
   "execution_count": 46,
   "id": "04e7cf64",
   "metadata": {},
   "outputs": [
    {
     "name": "stdout",
     "output_type": "stream",
     "text": [
      "2021-06-20 09:00:43.694609: I tensorflow/core/platform/profile_utils/cpu_utils.cc:94] CPU Frequency: 2300065000 Hz\n",
      "2021-06-20 09:00:43.694826: I tensorflow/compiler/xla/service/service.cc:168] XLA service 0x55f5764d1f20 initialized for platform Host (this does not guarantee that XLA will be used). Devices:\n",
      "2021-06-20 09:00:43.694847: I tensorflow/compiler/xla/service/service.cc:176]   StreamExecutor device (0): Host, Default Version\n",
      "2021-06-20 09:00:43.694969: I tensorflow/core/common_runtime/process_util.cc:147] Creating new thread pool with default inter op setting: 2. Tune using inter_op_parallelism_threads for best performance.\n",
      "\n",
      "##### Building vocab... #####\n",
      "song_info_df.shape:  (149345, 3)\n",
      "song_info_df.columns:  Index(['song_id', 'song_embedding_id', 'frequency'], dtype='object')\n",
      "self.popular_songs_num:  7467\n",
      "self.vocab_size:  149347\n",
      "##### Vocab built... #####\n",
      "\n",
      "\n",
      "##### Mapping song2info... #####\n",
      "\n",
      "Mapping song2info...\n",
      "train_songs_info_df.shape:  (149345, 7)\n",
      "Traceback (most recent call last):\n",
      "  File \"dataset.py\", line 104, in <module>\n",
      "    dataset = wynk_sessions_dataset(TRAIN_DATA_PATH, TRAIN_SONGS_INFO_PATH)    \n",
      "  File \"dataset.py\", line 18, in __init__\n",
      "    self._map_song2info()\n",
      "  File \"dataset.py\", line 55, in _map_song2info\n",
      "    print(\"len(self.song2info): \", len(self.song2info))\n",
      "AttributeError: 'wynk_sessions_dataset' object has no attribute 'song2info'\n"
     ]
    }
   ],
   "source": [
    "!python3 dataset.py\n",
    "# !python3 config.py"
   ]
  },
  {
   "cell_type": "code",
   "execution_count": null,
   "id": "d75e0066",
   "metadata": {},
   "outputs": [],
   "source": []
  },
  {
   "cell_type": "code",
   "execution_count": null,
   "id": "e6f03297",
   "metadata": {},
   "outputs": [],
   "source": []
  }
 ],
 "metadata": {
  "kernelspec": {
   "display_name": "conda_tensorflow2_p36",
   "language": "python",
   "name": "conda_tensorflow2_p36"
  },
  "language_info": {
   "codemirror_mode": {
    "name": "ipython",
    "version": 3
   },
   "file_extension": ".py",
   "mimetype": "text/x-python",
   "name": "python",
   "nbconvert_exporter": "python",
   "pygments_lexer": "ipython3",
   "version": "3.6.13"
  }
 },
 "nbformat": 4,
 "nbformat_minor": 5
}
